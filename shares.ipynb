{
 "cells": [
  {
   "cell_type": "code",
   "execution_count": 302,
   "metadata": {},
   "outputs": [],
   "source": [
    "import pandas as pd\n",
    "import numpy as np\n",
    "import matplotlib.pyplot as plt\n",
    "import math\n",
    "import finpy_tse as fpy"
   ]
  },
  {
   "cell_type": "code",
   "execution_count": 303,
   "metadata": {},
   "outputs": [
    {
     "name": "stderr",
     "output_type": "stream",
     "text": [
      "d:\\data science MBA\\آموزش\\webscrappy\\web_scarap\\shares_return\\env\\Lib\\site-packages\\finpy_tse\\__init__.py:424: FutureWarning: The behavior of array concatenation with empty entries is deprecated. In a future version, this will no longer exclude empty items when determining the result dtype. To retain the old behavior, exclude the empty entries before the concat operation.\n",
      "  df_history = pd.concat([df_history,df_temp])\n"
     ]
    }
   ],
   "source": [
    "def sabeghe_RiskFree():\n",
    "    \"\"\"\n",
    "    سابقه قیمتی نماد صندوق درامد ثابت یاقوت\n",
    "    \"\"\" \n",
    "    shatran=fpy.Get_Price_History(\n",
    "        stock=\"یاقوت\",\n",
    "        start_date='1399-01-27',\n",
    "        end_date='1402-12-28',\n",
    "        ignore_date=False,\n",
    "        adjust_price=True,\n",
    "        show_weekday=False,\n",
    "        double_date=False)\n",
    "    \n",
    "    return shatran[[\"Ticker\",\"Adj Close\"]]\n",
    "\n",
    "RF=sabeghe_RiskFree()"
   ]
  },
  {
   "cell_type": "code",
   "execution_count": 304,
   "metadata": {},
   "outputs": [],
   "source": [
    "def sabeghe_Index(): \n",
    "    \"\"\"\n",
    "    سابقه قیمتی شاخص کل\n",
    "    \"\"\" \n",
    "    shakheskol=fpy.Get_CWI_History(\n",
    "        start_date='1399-01-27',\n",
    "        end_date='1402-12-28',\n",
    "        ignore_date=False,\n",
    "        just_adj_close=True,\n",
    "        show_weekday=False,\n",
    "        double_date=False)\n",
    "    return shakheskol\n",
    "\n",
    "Index=sabeghe_Index()"
   ]
  },
  {
   "cell_type": "code",
   "execution_count": 305,
   "metadata": {},
   "outputs": [
    {
     "name": "stderr",
     "output_type": "stream",
     "text": [
      "d:\\data science MBA\\آموزش\\webscrappy\\web_scarap\\shares_return\\env\\Lib\\site-packages\\finpy_tse\\__init__.py:424: FutureWarning: The behavior of array concatenation with empty entries is deprecated. In a future version, this will no longer exclude empty items when determining the result dtype. To retain the old behavior, exclude the empty entries before the concat operation.\n",
      "  df_history = pd.concat([df_history,df_temp])\n"
     ]
    }
   ],
   "source": [
    "def sabeghe_shatran():\n",
    "    \"\"\"\n",
    "    سابقه قیمتی نماد شتران\n",
    "    \"\"\" \n",
    "    shatran=fpy.Get_Price_History(\n",
    "        stock='شتران',\n",
    "        start_date='1399-01-27',\n",
    "        end_date='1402-12-28',\n",
    "        ignore_date=False,\n",
    "        adjust_price=True,\n",
    "        show_weekday=False,\n",
    "        double_date=False)\n",
    "    \n",
    "    return shatran[[\"Ticker\",\"Adj Close\"]]\n",
    "\n",
    "shatran=sabeghe_shatran()"
   ]
  },
  {
   "cell_type": "code",
   "execution_count": 306,
   "metadata": {},
   "outputs": [
    {
     "name": "stderr",
     "output_type": "stream",
     "text": [
      "d:\\data science MBA\\آموزش\\webscrappy\\web_scarap\\shares_return\\env\\Lib\\site-packages\\finpy_tse\\__init__.py:424: FutureWarning: The behavior of array concatenation with empty entries is deprecated. In a future version, this will no longer exclude empty items when determining the result dtype. To retain the old behavior, exclude the empty entries before the concat operation.\n",
      "  df_history = pd.concat([df_history,df_temp])\n"
     ]
    }
   ],
   "source": [
    "def sabeghe_shasta():\n",
    "    \"\"\"\n",
    "    سابقه قیمتی نماد شستا\n",
    "    \"\"\" \n",
    "    shasta=fpy.Get_Price_History(\n",
    "        stock='شستا',\n",
    "        start_date='1399-01-27',\n",
    "        end_date='1402-12-28',\n",
    "        ignore_date=False,\n",
    "        adjust_price=True,\n",
    "        show_weekday=False,\n",
    "        double_date=False)\n",
    "    \n",
    "    return shasta[[\"Ticker\",\"Adj Close\"]]\n",
    "shasta=sabeghe_shasta()"
   ]
  },
  {
   "cell_type": "code",
   "execution_count": 307,
   "metadata": {},
   "outputs": [
    {
     "name": "stderr",
     "output_type": "stream",
     "text": [
      "d:\\data science MBA\\آموزش\\webscrappy\\web_scarap\\shares_return\\env\\Lib\\site-packages\\finpy_tse\\__init__.py:424: FutureWarning: The behavior of array concatenation with empty entries is deprecated. In a future version, this will no longer exclude empty items when determining the result dtype. To retain the old behavior, exclude the empty entries before the concat operation.\n",
      "  df_history = pd.concat([df_history,df_temp])\n"
     ]
    }
   ],
   "source": [
    "def sabeghe_kerman():\n",
    "    \"\"\"\n",
    "    سابقه قیمتی نماد کرمان\n",
    "    \"\"\" \n",
    "    kerman=fpy.Get_Price_History(\n",
    "        stock='کرمان',\n",
    "        start_date='1399-01-27',\n",
    "        end_date='1402-12-28',\n",
    "        ignore_date=False,\n",
    "        adjust_price=True,\n",
    "        show_weekday=False,\n",
    "        double_date=False)\n",
    "    \n",
    "    return kerman[[\"Ticker\",\"Adj Close\"]]\n",
    "kerman=sabeghe_kerman()"
   ]
  },
  {
   "cell_type": "code",
   "execution_count": 308,
   "metadata": {},
   "outputs": [],
   "source": [
    "def eda_portfo():\n",
    "    \"\"\"\n",
    "    تمیز کردن دیتا \n",
    "    \"\"\" \n",
    "   \n",
    "    portfo_2= shatran.merge(shasta,on=[\"J-Date\"],how=\"outer\")\n",
    "    portfo_3= portfo_2.merge(kerman,on=[\"J-Date\"],how=\"outer\")\n",
    "    portfo_3= portfo_3.drop([\"Ticker_x\",\"Ticker_y\",\"Ticker\"],axis=1).rename(columns={\"Adj Close_x\":\"Adj Close_shatran\",\"Adj Close_y\":\"Adj Close_shasta\",\"Adj Close\":\"Adj Close_kerman\"})\n",
    "    portfo_shakhes=Index.merge(portfo_3,on=[\"J-Date\"],how=\"outer\").rename(columns={\"Adj Close\":\"Adj Close_Index\"})\n",
    "    portfo_RiskFree=RF.merge(portfo_shakhes, on=[\"J-Date\"],how=\"outer\").drop([\"Ticker\"],axis=1).rename(columns={\"Adj Close\":\"Adj Close_RiskFree\"}).bfill()\n",
    "    \n",
    "    portfo= portfo_RiskFree.ffill()\n",
    "    \n",
    "    return  portfo.sort_values(by=\"J-Date\",ascending= False)\n",
    "\n",
    "portfolio=eda_portfo()"
   ]
  },
  {
   "cell_type": "code",
   "execution_count": 309,
   "metadata": {},
   "outputs": [],
   "source": [
    "def portfo_return():\n",
    "    \"\"\"\n",
    "     احتساب 21 روز کاری در ماه و بدست اوردن بازده ماهانه و تبدیل به یازده سالانه \n",
    "    \"\"\"\n",
    "    return (portfolio.pct_change(periods=-21))*12\n",
    "\n",
    "annual_return=portfo_return()"
   ]
  },
  {
   "cell_type": "code",
   "execution_count": 310,
   "metadata": {},
   "outputs": [],
   "source": [
    "AR_portfo=annual_return.drop([\"Adj Close_Index\",\"Adj Close_RiskFree\"],axis=1)"
   ]
  },
  {
   "cell_type": "code",
   "execution_count": 311,
   "metadata": {},
   "outputs": [
    {
     "data": {
      "text/plain": [
       "Adj Close_shatran    0.615861\n",
       "Adj Close_shasta     0.529879\n",
       "Adj Close_kerman     0.245885\n",
       "dtype: float64"
      ]
     },
     "execution_count": 311,
     "metadata": {},
     "output_type": "execute_result"
    }
   ],
   "source": [
    "def annual_expected_return():\n",
    "    \"\"\"\n",
    "    بدست آوردن بازده موردانتظار پرتفو بدون شاخص کل از میانگین بازده سالانه \n",
    "    \"\"\"\n",
    "    return (AR_portfo.mean())\n",
    "ER=annual_expected_return()\n",
    "ER"
   ]
  },
  {
   "cell_type": "code",
   "execution_count": 312,
   "metadata": {},
   "outputs": [
    {
     "data": {
      "text/plain": [
       "Adj Close_shatran    3.167134\n",
       "Adj Close_shasta     2.590583\n",
       "Adj Close_kerman     2.564598\n",
       "dtype: float64"
      ]
     },
     "execution_count": 312,
     "metadata": {},
     "output_type": "execute_result"
    }
   ],
   "source": [
    "def annual_risk():\n",
    "    \"\"\"\n",
    "    بدست آوردن انحراف معیار (ریسک سالیانه)\n",
    "    \"\"\"\n",
    "    return (AR_portfo.std(ddof=1))\n",
    "Risk=annual_risk()\n",
    "Risk"
   ]
  },
  {
   "cell_type": "code",
   "execution_count": 313,
   "metadata": {},
   "outputs": [
    {
     "data": {
      "text/plain": [
       "Adj Close_shatran    10.030735\n",
       "Adj Close_shasta      6.711120\n",
       "Adj Close_kerman      6.577161\n",
       "dtype: float64"
      ]
     },
     "execution_count": 313,
     "metadata": {},
     "output_type": "execute_result"
    }
   ],
   "source": [
    "def annual_variance():\n",
    "    \"\"\"  \n",
    "    بدست آوردن واریانس\n",
    "    \"\"\"\n",
    "    return (AR_portfo.var(ddof=1))\n",
    "var=annual_variance()\n",
    "var"
   ]
  },
  {
   "cell_type": "code",
   "execution_count": 314,
   "metadata": {},
   "outputs": [
    {
     "data": {
      "text/html": [
       "<div>\n",
       "<style scoped>\n",
       "    .dataframe tbody tr th:only-of-type {\n",
       "        vertical-align: middle;\n",
       "    }\n",
       "\n",
       "    .dataframe tbody tr th {\n",
       "        vertical-align: top;\n",
       "    }\n",
       "\n",
       "    .dataframe thead th {\n",
       "        text-align: right;\n",
       "    }\n",
       "</style>\n",
       "<table border=\"1\" class=\"dataframe\">\n",
       "  <thead>\n",
       "    <tr style=\"text-align: right;\">\n",
       "      <th></th>\n",
       "      <th>Adj Close_shatran</th>\n",
       "      <th>Adj Close_shasta</th>\n",
       "      <th>Adj Close_kerman</th>\n",
       "    </tr>\n",
       "  </thead>\n",
       "  <tbody>\n",
       "    <tr>\n",
       "      <th>Adj Close_shatran</th>\n",
       "      <td>10.030735</td>\n",
       "      <td>6.943090</td>\n",
       "      <td>5.341198</td>\n",
       "    </tr>\n",
       "    <tr>\n",
       "      <th>Adj Close_shasta</th>\n",
       "      <td>6.943090</td>\n",
       "      <td>6.711120</td>\n",
       "      <td>4.715689</td>\n",
       "    </tr>\n",
       "    <tr>\n",
       "      <th>Adj Close_kerman</th>\n",
       "      <td>5.341198</td>\n",
       "      <td>4.715689</td>\n",
       "      <td>6.577161</td>\n",
       "    </tr>\n",
       "  </tbody>\n",
       "</table>\n",
       "</div>"
      ],
      "text/plain": [
       "                   Adj Close_shatran  Adj Close_shasta  Adj Close_kerman\n",
       "Adj Close_shatran          10.030735          6.943090          5.341198\n",
       "Adj Close_shasta            6.943090          6.711120          4.715689\n",
       "Adj Close_kerman            5.341198          4.715689          6.577161"
      ]
     },
     "execution_count": 314,
     "metadata": {},
     "output_type": "execute_result"
    }
   ],
   "source": [
    "def annual_covariance():\n",
    "    \"\"\"\n",
    "    بدست آوردن کواریانس\n",
    "    \"\"\"\n",
    "    return (AR_portfo.cov())\n",
    "cov=annual_covariance()\n",
    "cov"
   ]
  },
  {
   "cell_type": "code",
   "execution_count": 315,
   "metadata": {},
   "outputs": [
    {
     "data": {
      "text/html": [
       "<div>\n",
       "<style scoped>\n",
       "    .dataframe tbody tr th:only-of-type {\n",
       "        vertical-align: middle;\n",
       "    }\n",
       "\n",
       "    .dataframe tbody tr th {\n",
       "        vertical-align: top;\n",
       "    }\n",
       "\n",
       "    .dataframe thead th {\n",
       "        text-align: right;\n",
       "    }\n",
       "</style>\n",
       "<table border=\"1\" class=\"dataframe\">\n",
       "  <thead>\n",
       "    <tr style=\"text-align: right;\">\n",
       "      <th></th>\n",
       "      <th>Adj Close_shatran</th>\n",
       "      <th>Adj Close_shasta</th>\n",
       "      <th>Adj Close_kerman</th>\n",
       "    </tr>\n",
       "  </thead>\n",
       "  <tbody>\n",
       "    <tr>\n",
       "      <th>Adj Close_shatran</th>\n",
       "      <td>1.000000</td>\n",
       "      <td>0.846231</td>\n",
       "      <td>0.657587</td>\n",
       "    </tr>\n",
       "    <tr>\n",
       "      <th>Adj Close_shasta</th>\n",
       "      <td>0.846231</td>\n",
       "      <td>1.000000</td>\n",
       "      <td>0.709788</td>\n",
       "    </tr>\n",
       "    <tr>\n",
       "      <th>Adj Close_kerman</th>\n",
       "      <td>0.657587</td>\n",
       "      <td>0.709788</td>\n",
       "      <td>1.000000</td>\n",
       "    </tr>\n",
       "  </tbody>\n",
       "</table>\n",
       "</div>"
      ],
      "text/plain": [
       "                   Adj Close_shatran  Adj Close_shasta  Adj Close_kerman\n",
       "Adj Close_shatran           1.000000          0.846231          0.657587\n",
       "Adj Close_shasta            0.846231          1.000000          0.709788\n",
       "Adj Close_kerman            0.657587          0.709788          1.000000"
      ]
     },
     "execution_count": 315,
     "metadata": {},
     "output_type": "execute_result"
    }
   ],
   "source": [
    "def annual_correlation():\n",
    "    \"\"\"\n",
    "    بدست آوردن کورلیشن\n",
    "    \"\"\"\n",
    "    return AR_portfo.corr()\n",
    "corr=annual_correlation()\n",
    "corr"
   ]
  },
  {
   "cell_type": "code",
   "execution_count": 316,
   "metadata": {},
   "outputs": [
    {
     "data": {
      "text/html": [
       "<div>\n",
       "<style scoped>\n",
       "    .dataframe tbody tr th:only-of-type {\n",
       "        vertical-align: middle;\n",
       "    }\n",
       "\n",
       "    .dataframe tbody tr th {\n",
       "        vertical-align: top;\n",
       "    }\n",
       "\n",
       "    .dataframe thead th {\n",
       "        text-align: right;\n",
       "    }\n",
       "</style>\n",
       "<table border=\"1\" class=\"dataframe\">\n",
       "  <thead>\n",
       "    <tr style=\"text-align: right;\">\n",
       "      <th></th>\n",
       "      <th>shatran_weight</th>\n",
       "      <th>shasta_weight</th>\n",
       "      <th>kerman_weight</th>\n",
       "    </tr>\n",
       "  </thead>\n",
       "  <tbody>\n",
       "    <tr>\n",
       "      <th>0</th>\n",
       "      <td>1.00</td>\n",
       "      <td>0.00</td>\n",
       "      <td>0.00</td>\n",
       "    </tr>\n",
       "    <tr>\n",
       "      <th>1</th>\n",
       "      <td>0.95</td>\n",
       "      <td>0.00</td>\n",
       "      <td>0.05</td>\n",
       "    </tr>\n",
       "    <tr>\n",
       "      <th>2</th>\n",
       "      <td>0.90</td>\n",
       "      <td>0.00</td>\n",
       "      <td>0.10</td>\n",
       "    </tr>\n",
       "    <tr>\n",
       "      <th>3</th>\n",
       "      <td>0.85</td>\n",
       "      <td>0.00</td>\n",
       "      <td>0.15</td>\n",
       "    </tr>\n",
       "    <tr>\n",
       "      <th>4</th>\n",
       "      <td>0.80</td>\n",
       "      <td>0.00</td>\n",
       "      <td>0.20</td>\n",
       "    </tr>\n",
       "    <tr>\n",
       "      <th>...</th>\n",
       "      <td>...</td>\n",
       "      <td>...</td>\n",
       "      <td>...</td>\n",
       "    </tr>\n",
       "    <tr>\n",
       "      <th>226</th>\n",
       "      <td>0.05</td>\n",
       "      <td>0.90</td>\n",
       "      <td>0.05</td>\n",
       "    </tr>\n",
       "    <tr>\n",
       "      <th>227</th>\n",
       "      <td>0.00</td>\n",
       "      <td>0.90</td>\n",
       "      <td>0.10</td>\n",
       "    </tr>\n",
       "    <tr>\n",
       "      <th>228</th>\n",
       "      <td>0.05</td>\n",
       "      <td>0.95</td>\n",
       "      <td>0.00</td>\n",
       "    </tr>\n",
       "    <tr>\n",
       "      <th>229</th>\n",
       "      <td>0.00</td>\n",
       "      <td>0.95</td>\n",
       "      <td>0.05</td>\n",
       "    </tr>\n",
       "    <tr>\n",
       "      <th>230</th>\n",
       "      <td>0.00</td>\n",
       "      <td>1.00</td>\n",
       "      <td>0.00</td>\n",
       "    </tr>\n",
       "  </tbody>\n",
       "</table>\n",
       "<p>231 rows × 3 columns</p>\n",
       "</div>"
      ],
      "text/plain": [
       "     shatran_weight  shasta_weight  kerman_weight\n",
       "0              1.00           0.00           0.00\n",
       "1              0.95           0.00           0.05\n",
       "2              0.90           0.00           0.10\n",
       "3              0.85           0.00           0.15\n",
       "4              0.80           0.00           0.20\n",
       "..              ...            ...            ...\n",
       "226            0.05           0.90           0.05\n",
       "227            0.00           0.90           0.10\n",
       "228            0.05           0.95           0.00\n",
       "229            0.00           0.95           0.05\n",
       "230            0.00           1.00           0.00\n",
       "\n",
       "[231 rows x 3 columns]"
      ]
     },
     "execution_count": 316,
     "metadata": {},
     "output_type": "execute_result"
    }
   ],
   "source": [
    "def weights_three_asset():\n",
    "    \"\"\"\n",
    "     محاسبه وزن های سهام باالگوی کم و زیاد کردن 5درصد\n",
    "    \"\"\"\n",
    "\n",
    "    data=np.arange(0, 105, 5, dtype=int)\n",
    "\n",
    "    list=[]\n",
    "    for x in (data):\n",
    "              \n",
    "        for y in (data):\n",
    "                 \n",
    "            for z in (data):\n",
    "                \n",
    "                x=100-y-z\n",
    "                y=100-x-z \n",
    "                z=100-y-x\n",
    "                  \n",
    "                if x>=0 and y>=0 and z>=0:\n",
    "                    list.append([x,y,z])\n",
    "                              \n",
    "    return list\n",
    "                    \n",
    "            \n",
    "Weights=(pd.DataFrame(weights_three_asset()).drop_duplicates() )/100\n",
    "Weights=Weights. rename(columns={0:\"shatran_weight\",1:\"shasta_weight\",2:\"kerman_weight\"}) \n",
    "Weights\n",
    "                   "
   ]
  },
  {
   "cell_type": "code",
   "execution_count": 317,
   "metadata": {},
   "outputs": [],
   "source": [
    "def portfo_return():\n",
    "    \"\"\"\n",
    "    بدست آوردن بازده کل پرتفو با اوزان مختلف به درصد\n",
    "    \"\"\"\n",
    "    return pd.DataFrame(np.array(Weights).dot(np.array(ER)))\n",
    "\n",
    "PER=portfo_return()"
   ]
  },
  {
   "cell_type": "code",
   "execution_count": 318,
   "metadata": {},
   "outputs": [],
   "source": [
    "def portfo_risk():\n",
    "\n",
    "    risk_pow_2=Risk**2\n",
    "    Weights_pow_2=Weights**2\n",
    "    part_1=pd.DataFrame(np.array(Weights_pow_2).dot(np.array(risk_pow_2)))\n",
    "    part_2=pd.DataFrame(2*((Weights.iloc[0:,0]*Weights.iloc[0:,1]*cov.iloc[0,1])+(Weights.iloc[0:,1]*Weights.iloc[0:,2]*cov.iloc[1,2])+(Weights.iloc[0:,0]*Weights.iloc[0:,2]*cov.iloc[0,2])))\n",
    "    return part_1 + part_2\n",
    "PR=portfo_risk() "
   ]
  },
  {
   "cell_type": "code",
   "execution_count": 319,
   "metadata": {},
   "outputs": [],
   "source": [
    "def sharp_ratio():\n",
    "    \"\"\"\n",
    "    بدست آوردن نسبت شارپ با دارایی بدون ریسک \n",
    "    \"\"\"\n",
    "    return (PER -(annual_return[\"Adj Close_RiskFree\"]).mean())/(PR)\n",
    "\n",
    "SRP=sharp_ratio()"
   ]
  },
  {
   "cell_type": "code",
   "execution_count": 320,
   "metadata": {},
   "outputs": [
    {
     "data": {
      "text/html": [
       "<div>\n",
       "<style scoped>\n",
       "    .dataframe tbody tr th:only-of-type {\n",
       "        vertical-align: middle;\n",
       "    }\n",
       "\n",
       "    .dataframe tbody tr th {\n",
       "        vertical-align: top;\n",
       "    }\n",
       "\n",
       "    .dataframe thead th {\n",
       "        text-align: right;\n",
       "    }\n",
       "</style>\n",
       "<table border=\"1\" class=\"dataframe\">\n",
       "  <thead>\n",
       "    <tr style=\"text-align: right;\">\n",
       "      <th></th>\n",
       "      <th>shatran_weight</th>\n",
       "      <th>shasta_weight</th>\n",
       "      <th>kerman_weight</th>\n",
       "      <th>Portfo_Return</th>\n",
       "      <th>Portfo_Risk</th>\n",
       "      <th>Sharp_Ratio</th>\n",
       "    </tr>\n",
       "  </thead>\n",
       "  <tbody>\n",
       "    <tr>\n",
       "      <th>0</th>\n",
       "      <td>1.00</td>\n",
       "      <td>0.00</td>\n",
       "      <td>0.00</td>\n",
       "      <td>0.615861</td>\n",
       "      <td>10.030735</td>\n",
       "      <td>0.040671</td>\n",
       "    </tr>\n",
       "    <tr>\n",
       "      <th>1</th>\n",
       "      <td>0.95</td>\n",
       "      <td>0.00</td>\n",
       "      <td>0.05</td>\n",
       "      <td>0.597363</td>\n",
       "      <td>9.576595</td>\n",
       "      <td>0.040668</td>\n",
       "    </tr>\n",
       "    <tr>\n",
       "      <th>2</th>\n",
       "      <td>0.90</td>\n",
       "      <td>0.00</td>\n",
       "      <td>0.10</td>\n",
       "      <td>0.578864</td>\n",
       "      <td>9.152082</td>\n",
       "      <td>0.040534</td>\n",
       "    </tr>\n",
       "    <tr>\n",
       "      <th>3</th>\n",
       "      <td>0.85</td>\n",
       "      <td>0.00</td>\n",
       "      <td>0.15</td>\n",
       "      <td>0.560365</td>\n",
       "      <td>8.757198</td>\n",
       "      <td>0.040249</td>\n",
       "    </tr>\n",
       "    <tr>\n",
       "      <th>4</th>\n",
       "      <td>0.80</td>\n",
       "      <td>0.00</td>\n",
       "      <td>0.20</td>\n",
       "      <td>0.541866</td>\n",
       "      <td>8.391940</td>\n",
       "      <td>0.039796</td>\n",
       "    </tr>\n",
       "    <tr>\n",
       "      <th>...</th>\n",
       "      <td>...</td>\n",
       "      <td>...</td>\n",
       "      <td>...</td>\n",
       "      <td>...</td>\n",
       "      <td>...</td>\n",
       "      <td>...</td>\n",
       "    </tr>\n",
       "    <tr>\n",
       "      <th>226</th>\n",
       "      <td>0.05</td>\n",
       "      <td>0.90</td>\n",
       "      <td>0.05</td>\n",
       "      <td>0.519978</td>\n",
       "      <td>6.553523</td>\n",
       "      <td>0.047620</td>\n",
       "    </tr>\n",
       "    <tr>\n",
       "      <th>227</th>\n",
       "      <td>0.00</td>\n",
       "      <td>0.90</td>\n",
       "      <td>0.10</td>\n",
       "      <td>0.501480</td>\n",
       "      <td>6.350603</td>\n",
       "      <td>0.046229</td>\n",
       "    </tr>\n",
       "    <tr>\n",
       "      <th>228</th>\n",
       "      <td>0.05</td>\n",
       "      <td>0.95</td>\n",
       "      <td>0.00</td>\n",
       "      <td>0.534178</td>\n",
       "      <td>6.741456</td>\n",
       "      <td>0.048399</td>\n",
       "    </tr>\n",
       "    <tr>\n",
       "      <th>229</th>\n",
       "      <td>0.00</td>\n",
       "      <td>0.95</td>\n",
       "      <td>0.05</td>\n",
       "      <td>0.515679</td>\n",
       "      <td>6.521219</td>\n",
       "      <td>0.047197</td>\n",
       "    </tr>\n",
       "    <tr>\n",
       "      <th>230</th>\n",
       "      <td>0.00</td>\n",
       "      <td>1.00</td>\n",
       "      <td>0.00</td>\n",
       "      <td>0.529879</td>\n",
       "      <td>6.711120</td>\n",
       "      <td>0.047977</td>\n",
       "    </tr>\n",
       "  </tbody>\n",
       "</table>\n",
       "<p>231 rows × 6 columns</p>\n",
       "</div>"
      ],
      "text/plain": [
       "     shatran_weight  shasta_weight  kerman_weight  Portfo_Return  Portfo_Risk  \\\n",
       "0              1.00           0.00           0.00       0.615861    10.030735   \n",
       "1              0.95           0.00           0.05       0.597363     9.576595   \n",
       "2              0.90           0.00           0.10       0.578864     9.152082   \n",
       "3              0.85           0.00           0.15       0.560365     8.757198   \n",
       "4              0.80           0.00           0.20       0.541866     8.391940   \n",
       "..              ...            ...            ...            ...          ...   \n",
       "226            0.05           0.90           0.05       0.519978     6.553523   \n",
       "227            0.00           0.90           0.10       0.501480     6.350603   \n",
       "228            0.05           0.95           0.00       0.534178     6.741456   \n",
       "229            0.00           0.95           0.05       0.515679     6.521219   \n",
       "230            0.00           1.00           0.00       0.529879     6.711120   \n",
       "\n",
       "     Sharp_Ratio  \n",
       "0       0.040671  \n",
       "1       0.040668  \n",
       "2       0.040534  \n",
       "3       0.040249  \n",
       "4       0.039796  \n",
       "..           ...  \n",
       "226     0.047620  \n",
       "227     0.046229  \n",
       "228     0.048399  \n",
       "229     0.047197  \n",
       "230     0.047977  \n",
       "\n",
       "[231 rows x 6 columns]"
      ]
     },
     "execution_count": 320,
     "metadata": {},
     "output_type": "execute_result"
    }
   ],
   "source": [
    "def concat():\n",
    "    \"\"\"\n",
    "    دیتافریمی از  ریسک و بازده پرتفو و نسبت شارپ\n",
    "    \"\"\"\n",
    "    df=pd.concat([Weights,PER.rename({0:\"Portfo_Return\"},axis=1)],axis=1)\n",
    "    df1=pd.concat([df,PR.rename({0:\"Portfo_Risk\"},axis=1)],axis=1)\n",
    "    df2=pd.concat([df1,SRP.rename({0:\"Sharp_Ratio\"},axis=1)],axis=1)\n",
    "    return df2\n",
    "df_portfolio=concat()\n",
    "df_portfolio"
   ]
  },
  {
   "cell_type": "code",
   "execution_count": 321,
   "metadata": {},
   "outputs": [
    {
     "data": {
      "text/html": [
       "<div>\n",
       "<style scoped>\n",
       "    .dataframe tbody tr th:only-of-type {\n",
       "        vertical-align: middle;\n",
       "    }\n",
       "\n",
       "    .dataframe tbody tr th {\n",
       "        vertical-align: top;\n",
       "    }\n",
       "\n",
       "    .dataframe thead th {\n",
       "        text-align: right;\n",
       "    }\n",
       "</style>\n",
       "<table border=\"1\" class=\"dataframe\">\n",
       "  <thead>\n",
       "    <tr style=\"text-align: right;\">\n",
       "      <th></th>\n",
       "      <th>shatran_weight</th>\n",
       "      <th>shasta_weight</th>\n",
       "      <th>kerman_weight</th>\n",
       "      <th>Portfo_Return</th>\n",
       "      <th>Portfo_Risk</th>\n",
       "      <th>Sharp_Ratio</th>\n",
       "    </tr>\n",
       "  </thead>\n",
       "  <tbody>\n",
       "    <tr>\n",
       "      <th>175</th>\n",
       "      <td>0.0</td>\n",
       "      <td>0.5</td>\n",
       "      <td>0.5</td>\n",
       "      <td>0.387882</td>\n",
       "      <td>5.679915</td>\n",
       "      <td>0.031688</td>\n",
       "    </tr>\n",
       "  </tbody>\n",
       "</table>\n",
       "</div>"
      ],
      "text/plain": [
       "     shatran_weight  shasta_weight  kerman_weight  Portfo_Return  Portfo_Risk  \\\n",
       "175             0.0            0.5            0.5       0.387882     5.679915   \n",
       "\n",
       "     Sharp_Ratio  \n",
       "175     0.031688  "
      ]
     },
     "execution_count": 321,
     "metadata": {},
     "output_type": "execute_result"
    }
   ],
   "source": [
    "def min_variance_portfo():\n",
    "    \"\"\"\n",
    "    بدست آوردن سبد با کمترین ریسک\n",
    "    \"\"\"\n",
    "    return df_portfolio[df_portfolio[\"Portfo_Risk\"]==df_portfolio[\"Portfo_Risk\"].min()]\n",
    "mvp=min_variance_portfo()\n",
    "mvp"
   ]
  },
  {
   "cell_type": "code",
   "execution_count": 322,
   "metadata": {},
   "outputs": [
    {
     "data": {
      "text/html": [
       "<div>\n",
       "<style scoped>\n",
       "    .dataframe tbody tr th:only-of-type {\n",
       "        vertical-align: middle;\n",
       "    }\n",
       "\n",
       "    .dataframe tbody tr th {\n",
       "        vertical-align: top;\n",
       "    }\n",
       "\n",
       "    .dataframe thead th {\n",
       "        text-align: right;\n",
       "    }\n",
       "</style>\n",
       "<table border=\"1\" class=\"dataframe\">\n",
       "  <thead>\n",
       "    <tr style=\"text-align: right;\">\n",
       "      <th></th>\n",
       "      <th>shatran_weight</th>\n",
       "      <th>shasta_weight</th>\n",
       "      <th>kerman_weight</th>\n",
       "      <th>Portfo_Return</th>\n",
       "      <th>Portfo_Risk</th>\n",
       "      <th>Sharp_Ratio</th>\n",
       "    </tr>\n",
       "  </thead>\n",
       "  <tbody>\n",
       "    <tr>\n",
       "      <th>210</th>\n",
       "      <td>0.25</td>\n",
       "      <td>0.75</td>\n",
       "      <td>0.0</td>\n",
       "      <td>0.551375</td>\n",
       "      <td>7.005584</td>\n",
       "      <td>0.049029</td>\n",
       "    </tr>\n",
       "  </tbody>\n",
       "</table>\n",
       "</div>"
      ],
      "text/plain": [
       "     shatran_weight  shasta_weight  kerman_weight  Portfo_Return  Portfo_Risk  \\\n",
       "210            0.25           0.75            0.0       0.551375     7.005584   \n",
       "\n",
       "     Sharp_Ratio  \n",
       "210     0.049029  "
      ]
     },
     "execution_count": 322,
     "metadata": {},
     "output_type": "execute_result"
    }
   ],
   "source": [
    "def max_sharp_ratio():\n",
    "    \"\"\"\n",
    "    بدست آوردن سبد با بیشترین نسبت شارپ\n",
    "    \"\"\"\n",
    "    return df_portfolio[df_portfolio[\"Sharp_Ratio\"]==df_portfolio[\"Sharp_Ratio\"].max()]\n",
    "BSRP=max_sharp_ratio()\n",
    "BSRP"
   ]
  },
  {
   "cell_type": "code",
   "execution_count": 323,
   "metadata": {},
   "outputs": [
    {
     "data": {
      "image/png": "[encoded data removed]",
      "text/plain": [
       "<Figure size 640x480 with 1 Axes>"
      ]
     },
     "metadata": {},
     "output_type": "display_data"
    }
   ],
   "source": [
    "def efficent_frontier_chart():\n",
    "    \"\"\"\n",
    "    نمودار مربوط به بازده و ریسک پرتفو باوزن های مختلف \n",
    "    با نشان دادن کمترین مقدار ریسک\n",
    "    \"\"\"\n",
    "   \n",
    "    df_portfolio.plot.scatter(x='Portfo_Risk',\n",
    "                       y='Portfo_Return',\n",
    "                      c='orange')\n",
    "    plt.plot(np.array(mvp[[\"Portfo_Risk\"]]),np.array(mvp[[\"Portfo_Return\"]]),'o:m' ,ms=10)\n",
    "\n",
    "    font1 = {'family':'serif','color':'blue','size':15}\n",
    "    font2 = {'family':'serif','color':'black','size':10}\n",
    "\n",
    "    plt.title(\"Portfolio\", fontdict = font1)\n",
    "    plt.xlabel(\"Risk\", fontdict = font2)\n",
    "    plt.ylabel(\"Return\", fontdict = font2)\n",
    "    \n",
    "    return plt.show()\n",
    "EF_chart=efficent_frontier_chart()\n",
    "EF_chart"
   ]
  },
  {
   "cell_type": "code",
   "execution_count": 324,
   "metadata": {},
   "outputs": [],
   "source": [
    "def Weights_Index_RiskFree():\n",
    "\n",
    "    \"\"\"\n",
    "     محاسبه وزن های سبد ریسکی و دارایی بدون ریسک باالگوی کم و زیاد کردن 5درصد\n",
    "    \"\"\"\n",
    "\n",
    "    data=np.arange(5, 110, 5, dtype=int)\n",
    "\n",
    "    list=[]\n",
    "    \n",
    "    for x in (data):\n",
    "       \n",
    "        for y in (data):\n",
    "            \n",
    "            if  x<0 or x>=0 :\n",
    "                x=x-5\n",
    "                y=100-x\n",
    "                \n",
    "                \n",
    "                \n",
    "                list.append([x,y])\n",
    "                  \n",
    "    return list\n",
    "                    \n",
    "            \n",
    "Weights=(pd.DataFrame(Weights_Index_RiskFree()).drop_duplicates()).reset_index()\n",
    "Weights_RiskFree_Index=((Weights.rename(columns={0:\"RF_weight\",1:\"index_weight\"})).drop(\"index\",axis=1))/100"
   ]
  },
  {
   "cell_type": "code",
   "execution_count": 325,
   "metadata": {},
   "outputs": [
    {
     "data": {
      "text/html": [
       "<div>\n",
       "<style scoped>\n",
       "    .dataframe tbody tr th:only-of-type {\n",
       "        vertical-align: middle;\n",
       "    }\n",
       "\n",
       "    .dataframe tbody tr th {\n",
       "        vertical-align: top;\n",
       "    }\n",
       "\n",
       "    .dataframe thead th {\n",
       "        text-align: right;\n",
       "    }\n",
       "</style>\n",
       "<table border=\"1\" class=\"dataframe\">\n",
       "  <thead>\n",
       "    <tr style=\"text-align: right;\">\n",
       "      <th></th>\n",
       "      <th>Portfo_Return</th>\n",
       "    </tr>\n",
       "  </thead>\n",
       "  <tbody>\n",
       "    <tr>\n",
       "      <th>210</th>\n",
       "      <td>0.551375</td>\n",
       "    </tr>\n",
       "  </tbody>\n",
       "</table>\n",
       "</div>"
      ],
      "text/plain": [
       "     Portfo_Return\n",
       "210       0.551375"
      ]
     },
     "execution_count": 325,
     "metadata": {},
     "output_type": "execute_result"
    }
   ],
   "source": [
    "BSRP[[\"Portfo_Return\"]]"
   ]
  },
  {
   "cell_type": "code",
   "execution_count": 326,
   "metadata": {},
   "outputs": [
    {
     "data": {
      "text/plain": [
       "array([[0.20789783],\n",
       "       [0.55137466]])"
      ]
     },
     "execution_count": 326,
     "metadata": {},
     "output_type": "execute_result"
    }
   ],
   "source": [
    "np.array([annual_return[[\"Adj Close_RiskFree\"]].mean(),BSRP[\"Portfo_Return\"]])"
   ]
  },
  {
   "cell_type": "code",
   "execution_count": 327,
   "metadata": {},
   "outputs": [],
   "source": [
    "def expected_return_sharo_ratio_freerisk():\n",
    "    \"\"\"\n",
    "    بدست آوردن بازده مورد انتظار بیشترین تسبت شارپ و دارایی بدون ریسک\n",
    "    \"\"\"\n",
    "    ER=np.array([annual_return[[\"Adj Close_RiskFree\"]].mean(),BSRP[\"Portfo_Return\"]])\n",
    "    return pd.DataFrame(Weights_RiskFree_Index).dot(np.array(ER))\n",
    "\n",
    "ERIRF=expected_return_sharo_ratio_freerisk().rename({0:\"expected_return\"},axis=1)"
   ]
  },
  {
   "cell_type": "code",
   "execution_count": 328,
   "metadata": {},
   "outputs": [],
   "source": [
    "def risk_sharp_ratio():\n",
    "    \"\"\"\n",
    "    بدست آوردن رسیک باییشترین نسبت شارپ\n",
    "    \"\"\"\n",
    "\n",
    "    RI=np.array(BSRP[[\"Portfo_Risk\"]])\n",
    "    return (np.array(Weights_RiskFree_Index[\"index_weight\"])*RI).T\n",
    "\n",
    "RIRF=pd.DataFrame(risk_sharp_ratio()).rename({0:\"Index_Risk\"},axis=1)"
   ]
  },
  {
   "cell_type": "code",
   "execution_count": 329,
   "metadata": {},
   "outputs": [],
   "source": [
    "def concat():\n",
    "    \"\"\"\n",
    "    دیتافریمی از ریسک و بازده بیشترین نسبت شارپ و دارایی بدون ریسک\n",
    "    \"\"\"\n",
    "    return pd.concat([ERIRF,RIRF],axis=1)\n",
    "cml=concat()"
   ]
  },
  {
   "cell_type": "code",
   "execution_count": 330,
   "metadata": {},
   "outputs": [
    {
     "data": {
      "image/png": "[encoded data removed]",
      "text/plain": [
       "<Figure size 640x480 with 1 Axes>"
      ]
     },
     "metadata": {},
     "output_type": "display_data"
    }
   ],
   "source": [
    "def capital_market_line_chart():\n",
    "    \"\"\"\n",
    "    تلاقی نمودار پرتفوی چند سهمی با خط بازار سرمایه از بازده و ریسک بیشترین نسبت شارپ باوزن های مختلف\n",
    "    \"\"\"\n",
    "    df_portfolio.plot.scatter(x='Portfo_Risk',\n",
    "                       y='Portfo_Return',\n",
    "                      c='Green')\n",
    "    plt.plot(cml[\"Index_Risk\"],cml[\"expected_return\"], c = 'hotpink')\n",
    "    \n",
    "    font1 = {'family':'serif','color':'blue','size':15}\n",
    "    font2 = {'family':'serif','color':'black','size':10}\n",
    "\n",
    "    plt.title(\"Portfolio & Capital Market Line\", fontdict = font1)\n",
    "    plt.xlabel(\"Risk\", fontdict = font2)\n",
    "    plt.ylabel(\"Return\", fontdict = font2)\n",
    "\n",
    "    return plt.show()\n",
    "\n",
    "    \n",
    "EF_chart=capital_market_line_chart()\n",
    "EF_chart"
   ]
  },
  {
   "cell_type": "markdown",
   "metadata": {},
   "source": [
    " خط بازار اوراق بهادار (capital asset pricing model)(مدل قیمت گذاری دارایی سرمایه ای) (sequrity market line)"
   ]
  },
  {
   "cell_type": "code",
   "execution_count": 331,
   "metadata": {},
   "outputs": [
    {
     "data": {
      "text/plain": [
       "array([0. , 0.1, 0.2, 0.3, 0.4, 0.5, 0.6, 0.7, 0.8, 0.9, 1. , 1.1, 1.2,\n",
       "       1.3, 1.4, 1.5, 1.6, 1.7, 1.8, 1.9, 2. , 2.1, 2.2, 2.3, 2.4, 2.5,\n",
       "       2.6, 2.7, 2.8, 2.9, 3. , 3.1, 3.2, 3.3, 3.4, 3.5, 3.6, 3.7, 3.8,\n",
       "       3.9, 4. , 4.1, 4.2, 4.3, 4.4, 4.5, 4.6, 4.7, 4.8, 4.9, 5. , 5.1,\n",
       "       5.2, 5.3, 5.4, 5.5, 5.6, 5.7, 5.8, 5.9, 6. , 6.1, 6.2, 6.3, 6.4,\n",
       "       6.5, 6.6, 6.7, 6.8, 6.9, 7. , 7.1, 7.2, 7.3, 7.4, 7.5, 7.6, 7.7,\n",
       "       7.8, 7.9, 8. , 8.1, 8.2, 8.3, 8.4, 8.5, 8.6, 8.7, 8.8, 8.9, 9. ,\n",
       "       9.1, 9.2, 9.3, 9.4, 9.5, 9.6, 9.7, 9.8, 9.9])"
      ]
     },
     "execution_count": 331,
     "metadata": {},
     "output_type": "execute_result"
    }
   ],
   "source": [
    "def Beta_sensitivity_coefficient_weights():\n",
    "    return np.arange(0,10,0.1)\n",
    "Beta_Weight=np.array(Beta_sensitivity_coefficient_weights())\n",
    "Beta_Weight"
   ]
  },
  {
   "cell_type": "code",
   "execution_count": 332,
   "metadata": {},
   "outputs": [
    {
     "data": {
      "text/plain": [
       "Adj Close_RiskFree     0.004860\n",
       "Adj Close_Index        2.447319\n",
       "Adj Close_shatran     10.030735\n",
       "Adj Close_shasta       6.711120\n",
       "Adj Close_kerman       6.577161\n",
       "dtype: float64"
      ]
     },
     "execution_count": 332,
     "metadata": {},
     "output_type": "execute_result"
    }
   ],
   "source": [
    "var_Index=annual_return.var()\n",
    "#var_Index[\"Adj Close_Index\"]\n",
    "var_Index"
   ]
  },
  {
   "cell_type": "code",
   "execution_count": 333,
   "metadata": {},
   "outputs": [
    {
     "data": {
      "text/plain": [
       "array([1.75608809])"
      ]
     },
     "execution_count": 333,
     "metadata": {},
     "output_type": "execute_result"
    }
   ],
   "source": [
    "def Beta_sensitivity_coefficient():\n",
    "    cov_Index=annual_return.cov()\n",
    "    var_Index=annual_return.var()\n",
    "    cov_index_shatran=cov_Index.iloc[1,2]\n",
    "    cov_index_shasta=cov_Index.iloc[1,3]\n",
    "    cov_index_kerman=cov_Index.iloc[1,4]\n",
    "    Beta_shatran=pd.DataFrame([cov_index_shatran/var_Index[\"Adj Close_Index\"]]).rename({0:\"Beta_shatran\"},axis=1)\n",
    "    Beta_shasta=pd.DataFrame([cov_index_shasta/var_Index[\"Adj Close_Index\"]]).rename({0:\"Beta_shasta\"},axis=1)\n",
    "    Beta_kerman=pd.DataFrame([cov_index_kerman/var_Index[\"Adj Close_Index\"]]).rename({0:\"Beta_kerman\"},axis=1)\n",
    "    return pd.concat([Beta_shatran,Beta_shasta,Beta_kerman],axis=1)\n",
    "\n",
    "BETA=Beta_sensitivity_coefficient()\n",
    "np.array(BETA [\"Beta_shatran\"])"
   ]
  },
  {
   "cell_type": "code",
   "execution_count": 334,
   "metadata": {},
   "outputs": [],
   "source": [
    "#Eri=Rf+β(ERm-Rf)\n",
    "def expected_return_market_assetriskfree():\n",
    "    \"\"\"\n",
    "    بدست آوردن بازده موردانتطار یا مورد نیاز با ریسک شاخص و ضریب بتا\n",
    "    \"\"\"\n",
    "    RF=annual_return[\"Adj Close_RiskFree\"].mean()\n",
    "    ERI=annual_return[\"Adj Close_Index\"].mean()\n",
    "    return RF+(Beta_Weight*(ERI-RF))\n",
    "\n",
    "ERi=pd.DataFrame(expected_return_market_assetriskfree()).rename({0:\"expected_return\"},axis=1)\n"
   ]
  },
  {
   "cell_type": "code",
   "execution_count": 354,
   "metadata": {},
   "outputs": [
    {
     "data": {
      "text/plain": [
       "<function matplotlib.pyplot.show(close=None, block=None)>"
      ]
     },
     "execution_count": 354,
     "metadata": {},
     "output_type": "execute_result"
    },
    {
     "data": {
      "image/png": "[encoded data removed]",
      "text/plain": [
       "<Figure size 640x480 with 1 Axes>"
      ]
     },
     "metadata": {},
     "output_type": "display_data"
    }
   ],
   "source": [
    "def sequrity_market_line():\n",
    "\n",
    "    plt.plot(pd.DataFrame(Beta_Weight),ERi,c = 'red')\n",
    "    plt.plot(np.array(BETA[[\"Beta_shatran\"]]),np.array(ER[\"Adj Close_shatran\"]),\"o:b\",ms=10 )# under value ارزش داتی ان بیشتر از بازار است، انقدر خریده می شود تا قیمت ان پایین بیاید و روی خظ بازار  قرار بگیرد\n",
    "    plt.plot(np.array(BETA[[\"Beta_shasta\"]]),np.array(ER[\"Adj Close_shasta\"]),\"o:c\",ms=10 )# under value ارزش داتی ان بیشتر از بازار است، انقدر خریده می شود تا قیمت ان پایین بیاید و روی خظ بازار  قرار بگیرد\n",
    "    plt.plot(np.array(BETA[[\"Beta_kerman\"]]),np.array(ER[\"Adj Close_kerman\"]),\"o:y\",ms=10 )# over value ارزش داتی ان کمتر از بازار است، انقدر فروخته می شود تا قیمت ان بالا بیاید و روی خظ بازار  قرار بگیرد\n",
    "    \n",
    "    font1 = {'family':'serif','color':'blue','size':15}\n",
    "    font2 = {'family':'serif','color':'black','size':10}\n",
    "\n",
    "    plt.title(\"Sequrity Market Line\", fontdict = font1)\n",
    "    plt.xlabel(\"Beta\", fontdict = font2)\n",
    "    plt.ylabel(\"Expected Return\", fontdict = font2)\n",
    "    return plt.show\n",
    "SML=sequrity_market_line()\n",
    "SML"
   ]
  },
  {
   "cell_type": "code",
   "execution_count": null,
   "metadata": {},
   "outputs": [],
   "source": []
  }
 ],
 "metadata": {
  "kernelspec": {
   "display_name": "env",
   "language": "python",
   "name": "python3"
  },
  "language_info": {
   "codemirror_mode": {
    "name": "ipython",
    "version": 3
   },
   "file_extension": ".py",
   "mimetype": "text/x-python",
   "name": "python",
   "nbconvert_exporter": "python",
   "pygments_lexer": "ipython3",
   "version": "3.11.4"
  }
 },
 "nbformat": 4,
 "nbformat_minor": 2
}
